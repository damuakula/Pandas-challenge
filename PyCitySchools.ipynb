{
 "cells": [
  {
   "cell_type": "code",
   "execution_count": 3,
   "metadata": {},
   "outputs": [],
   "source": [
    "# Dependencies and Setup\n",
    "import pandas as pd\n",
    "import numpy as np\n",
    "\n",
    "# Load the CSV files\n",
    "school_data_to_load = \"C:\\\\Users\\\\Owner\\\\GitHub\\\\Pandas-challenge\\\\schools_complete.csv\"\n",
    "student_data_to_load = \"C:\\\\Users\\\\Owner\\\\GitHub\\\\Pandas-challenge\\\\students_complete.csv\"\n",
    "\n",
    "# Read School and Student Data File and store into Pandas Data Frames\n",
    "school_data = pd.read_csv(school_data_to_load)\n",
    "student_data = pd.read_csv(student_data_to_load)\n",
    "\n",
    "# Merge the data into a single dataframe\n",
    "school_data_complete = pd.merge(student_data, school_data, how=\"left\", on=[\"school_name\", \"school_name\"])"
   ]
  },
  {
   "cell_type": "code",
   "execution_count": 4,
   "metadata": {},
   "outputs": [
    {
     "data": {
      "text/html": [
       "<div>\n",
       "<style scoped>\n",
       "    .dataframe tbody tr th:only-of-type {\n",
       "        vertical-align: middle;\n",
       "    }\n",
       "\n",
       "    .dataframe tbody tr th {\n",
       "        vertical-align: top;\n",
       "    }\n",
       "\n",
       "    .dataframe thead th {\n",
       "        text-align: right;\n",
       "    }\n",
       "</style>\n",
       "<table border=\"1\" class=\"dataframe\">\n",
       "  <thead>\n",
       "    <tr style=\"text-align: right;\">\n",
       "      <th></th>\n",
       "      <th>Student ID</th>\n",
       "      <th>student_name</th>\n",
       "      <th>gender</th>\n",
       "      <th>grade</th>\n",
       "      <th>school_name</th>\n",
       "      <th>reading_score</th>\n",
       "      <th>math_score</th>\n",
       "      <th>School ID</th>\n",
       "      <th>type</th>\n",
       "      <th>size</th>\n",
       "      <th>budget</th>\n",
       "    </tr>\n",
       "  </thead>\n",
       "  <tbody>\n",
       "    <tr>\n",
       "      <th>0</th>\n",
       "      <td>0</td>\n",
       "      <td>Paul Bradley</td>\n",
       "      <td>M</td>\n",
       "      <td>9th</td>\n",
       "      <td>Huang High School</td>\n",
       "      <td>66</td>\n",
       "      <td>79</td>\n",
       "      <td>0</td>\n",
       "      <td>District</td>\n",
       "      <td>2917</td>\n",
       "      <td>1910635</td>\n",
       "    </tr>\n",
       "    <tr>\n",
       "      <th>1</th>\n",
       "      <td>1</td>\n",
       "      <td>Victor Smith</td>\n",
       "      <td>M</td>\n",
       "      <td>12th</td>\n",
       "      <td>Huang High School</td>\n",
       "      <td>94</td>\n",
       "      <td>61</td>\n",
       "      <td>0</td>\n",
       "      <td>District</td>\n",
       "      <td>2917</td>\n",
       "      <td>1910635</td>\n",
       "    </tr>\n",
       "    <tr>\n",
       "      <th>2</th>\n",
       "      <td>2</td>\n",
       "      <td>Kevin Rodriguez</td>\n",
       "      <td>M</td>\n",
       "      <td>12th</td>\n",
       "      <td>Huang High School</td>\n",
       "      <td>90</td>\n",
       "      <td>60</td>\n",
       "      <td>0</td>\n",
       "      <td>District</td>\n",
       "      <td>2917</td>\n",
       "      <td>1910635</td>\n",
       "    </tr>\n",
       "    <tr>\n",
       "      <th>3</th>\n",
       "      <td>3</td>\n",
       "      <td>Dr. Richard Scott</td>\n",
       "      <td>M</td>\n",
       "      <td>12th</td>\n",
       "      <td>Huang High School</td>\n",
       "      <td>67</td>\n",
       "      <td>58</td>\n",
       "      <td>0</td>\n",
       "      <td>District</td>\n",
       "      <td>2917</td>\n",
       "      <td>1910635</td>\n",
       "    </tr>\n",
       "    <tr>\n",
       "      <th>4</th>\n",
       "      <td>4</td>\n",
       "      <td>Bonnie Ray</td>\n",
       "      <td>F</td>\n",
       "      <td>9th</td>\n",
       "      <td>Huang High School</td>\n",
       "      <td>97</td>\n",
       "      <td>84</td>\n",
       "      <td>0</td>\n",
       "      <td>District</td>\n",
       "      <td>2917</td>\n",
       "      <td>1910635</td>\n",
       "    </tr>\n",
       "  </tbody>\n",
       "</table>\n",
       "</div>"
      ],
      "text/plain": [
       "   Student ID       student_name gender grade        school_name  \\\n",
       "0           0       Paul Bradley      M   9th  Huang High School   \n",
       "1           1       Victor Smith      M  12th  Huang High School   \n",
       "2           2    Kevin Rodriguez      M  12th  Huang High School   \n",
       "3           3  Dr. Richard Scott      M  12th  Huang High School   \n",
       "4           4         Bonnie Ray      F   9th  Huang High School   \n",
       "\n",
       "   reading_score  math_score  School ID      type  size   budget  \n",
       "0             66          79          0  District  2917  1910635  \n",
       "1             94          61          0  District  2917  1910635  \n",
       "2             90          60          0  District  2917  1910635  \n",
       "3             67          58          0  District  2917  1910635  \n",
       "4             97          84          0  District  2917  1910635  "
      ]
     },
     "execution_count": 4,
     "metadata": {},
     "output_type": "execute_result"
    }
   ],
   "source": [
    "school_data_complete.head()"
   ]
  },
  {
   "cell_type": "code",
   "execution_count": 5,
   "metadata": {},
   "outputs": [
    {
     "data": {
      "text/plain": [
       "15"
      ]
     },
     "execution_count": 5,
     "metadata": {},
     "output_type": "execute_result"
    }
   ],
   "source": [
    "total_schools = school_data[\"school_name\"].count()\n",
    "total_schools"
   ]
  },
  {
   "cell_type": "code",
   "execution_count": 6,
   "metadata": {},
   "outputs": [
    {
     "data": {
      "text/plain": [
       "39170"
      ]
     },
     "execution_count": 6,
     "metadata": {},
     "output_type": "execute_result"
    }
   ],
   "source": [
    "total_students = student_data[\"Student ID\"].count()\n",
    "total_students"
   ]
  },
  {
   "cell_type": "code",
   "execution_count": 7,
   "metadata": {},
   "outputs": [
    {
     "data": {
      "text/plain": [
       "24649428"
      ]
     },
     "execution_count": 7,
     "metadata": {},
     "output_type": "execute_result"
    }
   ],
   "source": [
    "total_budget = school_data[\"budget\"].sum()\n",
    "total_budget"
   ]
  },
  {
   "cell_type": "code",
   "execution_count": 8,
   "metadata": {},
   "outputs": [
    {
     "data": {
      "text/plain": [
       "3093857"
      ]
     },
     "execution_count": 8,
     "metadata": {},
     "output_type": "execute_result"
    }
   ],
   "source": [
    "total_math_score = student_data[\"math_score\"].sum()\n",
    "total_math_score"
   ]
  },
  {
   "cell_type": "code",
   "execution_count": 9,
   "metadata": {},
   "outputs": [
    {
     "data": {
      "text/plain": [
       "78.98537145774827"
      ]
     },
     "execution_count": 9,
     "metadata": {},
     "output_type": "execute_result"
    }
   ],
   "source": [
    "avg_math_score = total_math_score/total_students\n",
    "avg_math_score"
   ]
  },
  {
   "cell_type": "code",
   "execution_count": 10,
   "metadata": {},
   "outputs": [
    {
     "data": {
      "text/plain": [
       "3207155"
      ]
     },
     "execution_count": 10,
     "metadata": {},
     "output_type": "execute_result"
    }
   ],
   "source": [
    "total_reading_score = student_data[\"reading_score\"].sum()\n",
    "total_reading_score"
   ]
  },
  {
   "cell_type": "code",
   "execution_count": 11,
   "metadata": {},
   "outputs": [
    {
     "data": {
      "text/plain": [
       "81.87784018381414"
      ]
     },
     "execution_count": 11,
     "metadata": {},
     "output_type": "execute_result"
    }
   ],
   "source": [
    "avg_reading_score = total_reading_score/total_students\n",
    "avg_reading_score"
   ]
  },
  {
   "cell_type": "code",
   "execution_count": 12,
   "metadata": {},
   "outputs": [
    {
     "data": {
      "text/html": [
       "<div>\n",
       "<style scoped>\n",
       "    .dataframe tbody tr th:only-of-type {\n",
       "        vertical-align: middle;\n",
       "    }\n",
       "\n",
       "    .dataframe tbody tr th {\n",
       "        vertical-align: top;\n",
       "    }\n",
       "\n",
       "    .dataframe thead th {\n",
       "        text-align: right;\n",
       "    }\n",
       "</style>\n",
       "<table border=\"1\" class=\"dataframe\">\n",
       "  <thead>\n",
       "    <tr style=\"text-align: right;\">\n",
       "      <th></th>\n",
       "      <th>Student ID</th>\n",
       "      <th>student_name</th>\n",
       "      <th>gender</th>\n",
       "      <th>grade</th>\n",
       "      <th>school_name</th>\n",
       "      <th>reading_score</th>\n",
       "      <th>math_score</th>\n",
       "    </tr>\n",
       "  </thead>\n",
       "  <tbody>\n",
       "    <tr>\n",
       "      <th>0</th>\n",
       "      <td>0</td>\n",
       "      <td>Paul Bradley</td>\n",
       "      <td>M</td>\n",
       "      <td>9th</td>\n",
       "      <td>Huang High School</td>\n",
       "      <td>66</td>\n",
       "      <td>79</td>\n",
       "    </tr>\n",
       "    <tr>\n",
       "      <th>4</th>\n",
       "      <td>4</td>\n",
       "      <td>Bonnie Ray</td>\n",
       "      <td>F</td>\n",
       "      <td>9th</td>\n",
       "      <td>Huang High School</td>\n",
       "      <td>97</td>\n",
       "      <td>84</td>\n",
       "    </tr>\n",
       "    <tr>\n",
       "      <th>5</th>\n",
       "      <td>5</td>\n",
       "      <td>Bryan Miranda</td>\n",
       "      <td>M</td>\n",
       "      <td>9th</td>\n",
       "      <td>Huang High School</td>\n",
       "      <td>94</td>\n",
       "      <td>94</td>\n",
       "    </tr>\n",
       "    <tr>\n",
       "      <th>6</th>\n",
       "      <td>6</td>\n",
       "      <td>Sheena Carter</td>\n",
       "      <td>F</td>\n",
       "      <td>11th</td>\n",
       "      <td>Huang High School</td>\n",
       "      <td>82</td>\n",
       "      <td>80</td>\n",
       "    </tr>\n",
       "    <tr>\n",
       "      <th>8</th>\n",
       "      <td>8</td>\n",
       "      <td>Michael Roth</td>\n",
       "      <td>M</td>\n",
       "      <td>10th</td>\n",
       "      <td>Huang High School</td>\n",
       "      <td>95</td>\n",
       "      <td>87</td>\n",
       "    </tr>\n",
       "  </tbody>\n",
       "</table>\n",
       "</div>"
      ],
      "text/plain": [
       "   Student ID   student_name gender grade        school_name  reading_score  \\\n",
       "0           0   Paul Bradley      M   9th  Huang High School             66   \n",
       "4           4     Bonnie Ray      F   9th  Huang High School             97   \n",
       "5           5  Bryan Miranda      M   9th  Huang High School             94   \n",
       "6           6  Sheena Carter      F  11th  Huang High School             82   \n",
       "8           8   Michael Roth      M  10th  Huang High School             95   \n",
       "\n",
       "   math_score  \n",
       "0          79  \n",
       "4          84  \n",
       "5          94  \n",
       "6          80  \n",
       "8          87  "
      ]
     },
     "execution_count": 12,
     "metadata": {},
     "output_type": "execute_result"
    }
   ],
   "source": [
    "passing_math_score = student_data.loc[(student_data[\"math_score\"] >= 70)]\n",
    "passing_math_score.head()"
   ]
  },
  {
   "cell_type": "code",
   "execution_count": 13,
   "metadata": {},
   "outputs": [
    {
     "data": {
      "text/plain": [
       "29370"
      ]
     },
     "execution_count": 13,
     "metadata": {},
     "output_type": "execute_result"
    }
   ],
   "source": [
    "passing_math_students = passing_math_score[\"Student ID\"].count()\n",
    "passing_math_students"
   ]
  },
  {
   "cell_type": "code",
   "execution_count": 14,
   "metadata": {},
   "outputs": [
    {
     "data": {
      "text/plain": [
       "74.9808526933878"
      ]
     },
     "execution_count": 14,
     "metadata": {},
     "output_type": "execute_result"
    }
   ],
   "source": [
    "percent_passing_math = (passing_math_students/total_students)*100\n",
    "percent_passing_math"
   ]
  },
  {
   "cell_type": "code",
   "execution_count": 15,
   "metadata": {},
   "outputs": [
    {
     "data": {
      "text/html": [
       "<div>\n",
       "<style scoped>\n",
       "    .dataframe tbody tr th:only-of-type {\n",
       "        vertical-align: middle;\n",
       "    }\n",
       "\n",
       "    .dataframe tbody tr th {\n",
       "        vertical-align: top;\n",
       "    }\n",
       "\n",
       "    .dataframe thead th {\n",
       "        text-align: right;\n",
       "    }\n",
       "</style>\n",
       "<table border=\"1\" class=\"dataframe\">\n",
       "  <thead>\n",
       "    <tr style=\"text-align: right;\">\n",
       "      <th></th>\n",
       "      <th>Student ID</th>\n",
       "      <th>student_name</th>\n",
       "      <th>gender</th>\n",
       "      <th>grade</th>\n",
       "      <th>school_name</th>\n",
       "      <th>reading_score</th>\n",
       "      <th>math_score</th>\n",
       "    </tr>\n",
       "  </thead>\n",
       "  <tbody>\n",
       "    <tr>\n",
       "      <th>1</th>\n",
       "      <td>1</td>\n",
       "      <td>Victor Smith</td>\n",
       "      <td>M</td>\n",
       "      <td>12th</td>\n",
       "      <td>Huang High School</td>\n",
       "      <td>94</td>\n",
       "      <td>61</td>\n",
       "    </tr>\n",
       "    <tr>\n",
       "      <th>2</th>\n",
       "      <td>2</td>\n",
       "      <td>Kevin Rodriguez</td>\n",
       "      <td>M</td>\n",
       "      <td>12th</td>\n",
       "      <td>Huang High School</td>\n",
       "      <td>90</td>\n",
       "      <td>60</td>\n",
       "    </tr>\n",
       "    <tr>\n",
       "      <th>4</th>\n",
       "      <td>4</td>\n",
       "      <td>Bonnie Ray</td>\n",
       "      <td>F</td>\n",
       "      <td>9th</td>\n",
       "      <td>Huang High School</td>\n",
       "      <td>97</td>\n",
       "      <td>84</td>\n",
       "    </tr>\n",
       "    <tr>\n",
       "      <th>5</th>\n",
       "      <td>5</td>\n",
       "      <td>Bryan Miranda</td>\n",
       "      <td>M</td>\n",
       "      <td>9th</td>\n",
       "      <td>Huang High School</td>\n",
       "      <td>94</td>\n",
       "      <td>94</td>\n",
       "    </tr>\n",
       "    <tr>\n",
       "      <th>6</th>\n",
       "      <td>6</td>\n",
       "      <td>Sheena Carter</td>\n",
       "      <td>F</td>\n",
       "      <td>11th</td>\n",
       "      <td>Huang High School</td>\n",
       "      <td>82</td>\n",
       "      <td>80</td>\n",
       "    </tr>\n",
       "  </tbody>\n",
       "</table>\n",
       "</div>"
      ],
      "text/plain": [
       "   Student ID     student_name gender grade        school_name  reading_score  \\\n",
       "1           1     Victor Smith      M  12th  Huang High School             94   \n",
       "2           2  Kevin Rodriguez      M  12th  Huang High School             90   \n",
       "4           4       Bonnie Ray      F   9th  Huang High School             97   \n",
       "5           5    Bryan Miranda      M   9th  Huang High School             94   \n",
       "6           6    Sheena Carter      F  11th  Huang High School             82   \n",
       "\n",
       "   math_score  \n",
       "1          61  \n",
       "2          60  \n",
       "4          84  \n",
       "5          94  \n",
       "6          80  "
      ]
     },
     "execution_count": 15,
     "metadata": {},
     "output_type": "execute_result"
    }
   ],
   "source": [
    "passing_reading_score = student_data.loc[(student_data[\"reading_score\"] >= 70)]\n",
    "passing_reading_score.head()"
   ]
  },
  {
   "cell_type": "code",
   "execution_count": 16,
   "metadata": {},
   "outputs": [
    {
     "data": {
      "text/plain": [
       "33610"
      ]
     },
     "execution_count": 16,
     "metadata": {},
     "output_type": "execute_result"
    }
   ],
   "source": [
    "passing_reading_students = passing_reading_score[\"Student ID\"].count()\n",
    "passing_reading_students"
   ]
  },
  {
   "cell_type": "code",
   "execution_count": 17,
   "metadata": {},
   "outputs": [
    {
     "data": {
      "text/plain": [
       "85.80546336482001"
      ]
     },
     "execution_count": 17,
     "metadata": {},
     "output_type": "execute_result"
    }
   ],
   "source": [
    "percent_passing_reading = (passing_reading_students/total_students)*100\n",
    "percent_passing_reading"
   ]
  },
  {
   "cell_type": "code",
   "execution_count": 18,
   "metadata": {},
   "outputs": [
    {
     "data": {
      "text/plain": [
       "80.43160582078121"
      ]
     },
     "execution_count": 18,
     "metadata": {},
     "output_type": "execute_result"
    }
   ],
   "source": [
    "overall_passing_rate = (avg_math_score + avg_reading_score)/2\n",
    "overall_passing_rate"
   ]
  },
  {
   "cell_type": "code",
   "execution_count": 19,
   "metadata": {},
   "outputs": [
    {
     "data": {
      "text/html": [
       "<div>\n",
       "<style scoped>\n",
       "    .dataframe tbody tr th:only-of-type {\n",
       "        vertical-align: middle;\n",
       "    }\n",
       "\n",
       "    .dataframe tbody tr th {\n",
       "        vertical-align: top;\n",
       "    }\n",
       "\n",
       "    .dataframe thead th {\n",
       "        text-align: right;\n",
       "    }\n",
       "</style>\n",
       "<table border=\"1\" class=\"dataframe\">\n",
       "  <thead>\n",
       "    <tr style=\"text-align: right;\">\n",
       "      <th></th>\n",
       "      <th>Total Schools</th>\n",
       "      <th>Total Students</th>\n",
       "      <th>Total Budget</th>\n",
       "      <th>Average Math Score</th>\n",
       "      <th>Average Reading Score</th>\n",
       "      <th>% Passing Math</th>\n",
       "      <th>% Passing Reading</th>\n",
       "      <th>% Overall Passing Rate</th>\n",
       "    </tr>\n",
       "  </thead>\n",
       "  <tbody>\n",
       "    <tr>\n",
       "      <th>0</th>\n",
       "      <td>15</td>\n",
       "      <td>39170</td>\n",
       "      <td>24649428</td>\n",
       "      <td>78.985371</td>\n",
       "      <td>81.87784</td>\n",
       "      <td>74.980853</td>\n",
       "      <td>85.805463</td>\n",
       "      <td>80.431606</td>\n",
       "    </tr>\n",
       "  </tbody>\n",
       "</table>\n",
       "</div>"
      ],
      "text/plain": [
       "   Total Schools  Total Students  Total Budget  Average Math Score  \\\n",
       "0             15           39170      24649428           78.985371   \n",
       "\n",
       "   Average Reading Score  % Passing Math  % Passing Reading  \\\n",
       "0               81.87784       74.980853          85.805463   \n",
       "\n",
       "   % Overall Passing Rate  \n",
       "0               80.431606  "
      ]
     },
     "execution_count": 19,
     "metadata": {},
     "output_type": "execute_result"
    }
   ],
   "source": [
    "# Creating a new DataFrame using the above numbers\n",
    "district_summary_table = pd.DataFrame({\"Total Schools\": [total_schools],\"Total Students\": [total_students],\n",
    "                                    \"Total Budget\": [total_budget], \"Average Math Score\": [avg_math_score],\n",
    "                                   \"Average Reading Score\": [avg_reading_score], \"% Passing Math\":[percent_passing_math],\n",
    "                                   \"% Passing Reading\":[percent_passing_reading], \"% Overall Passing Rate\":[overall_passing_rate],\n",
    "                                   })\n",
    "district_summary_table"
   ]
  },
  {
   "cell_type": "code",
   "execution_count": 20,
   "metadata": {},
   "outputs": [
    {
     "data": {
      "text/html": [
       "<div>\n",
       "<style scoped>\n",
       "    .dataframe tbody tr th:only-of-type {\n",
       "        vertical-align: middle;\n",
       "    }\n",
       "\n",
       "    .dataframe tbody tr th {\n",
       "        vertical-align: top;\n",
       "    }\n",
       "\n",
       "    .dataframe thead th {\n",
       "        text-align: right;\n",
       "    }\n",
       "</style>\n",
       "<table border=\"1\" class=\"dataframe\">\n",
       "  <thead>\n",
       "    <tr style=\"text-align: right;\">\n",
       "      <th></th>\n",
       "      <th>Total Schools</th>\n",
       "      <th>Total Students</th>\n",
       "      <th>Total Budget</th>\n",
       "      <th>Average Math Score</th>\n",
       "      <th>Average Reading Score</th>\n",
       "      <th>% Passing Math</th>\n",
       "      <th>% Passing Reading</th>\n",
       "      <th>% Overall Passing Rate</th>\n",
       "    </tr>\n",
       "  </thead>\n",
       "  <tbody>\n",
       "    <tr>\n",
       "      <th>0</th>\n",
       "      <td>15</td>\n",
       "      <td>39,170</td>\n",
       "      <td>$24,649,428</td>\n",
       "      <td>78.99</td>\n",
       "      <td>81.88</td>\n",
       "      <td>74.98</td>\n",
       "      <td>85.81</td>\n",
       "      <td>80.43</td>\n",
       "    </tr>\n",
       "  </tbody>\n",
       "</table>\n",
       "</div>"
      ],
      "text/plain": [
       "   Total Schools Total Students Total Budget Average Math Score  \\\n",
       "0             15         39,170  $24,649,428              78.99   \n",
       "\n",
       "  Average Reading Score % Passing Math % Passing Reading  \\\n",
       "0                 81.88          74.98             85.81   \n",
       "\n",
       "  % Overall Passing Rate  \n",
       "0                  80.43  "
      ]
     },
     "execution_count": 20,
     "metadata": {},
     "output_type": "execute_result"
    }
   ],
   "source": [
    "# Schools district summary results\n",
    "district_summary_table[\"Total Students\"] = district_summary_table[\"Total Students\"].map(\"{:,}\".format)\n",
    "district_summary_table[\"Total Budget\"] = district_summary_table[\"Total Budget\"].map(\"${:,}\".format)\n",
    "district_summary_table[\"Average Math Score\"] = district_summary_table[\"Average Math Score\"].map(\"{:.2f}\".format)\n",
    "district_summary_table[\"Average Reading Score\"] = district_summary_table[\"Average Reading Score\"].map(\"{:.2f}\".format)\n",
    "district_summary_table[\"% Passing Math\"] = district_summary_table[\"% Passing Math\"].map(\"{:.2f}\".format)\n",
    "district_summary_table[\"% Passing Reading\"] = district_summary_table[\"% Passing Reading\"].map(\"{:.2f}\".format)\n",
    "district_summary_table[\"% Overall Passing Rate\"] = district_summary_table[\"% Overall Passing Rate\"].map(\"{:.2f}\".format)\n",
    "district_summary_table"
   ]
  },
  {
   "cell_type": "code",
   "execution_count": 21,
   "metadata": {},
   "outputs": [
    {
     "data": {
      "text/plain": [
       "<pandas.core.groupby.groupby.DataFrameGroupBy object at 0x00000245A38A2F98>"
      ]
     },
     "execution_count": 21,
     "metadata": {},
     "output_type": "execute_result"
    }
   ],
   "source": [
    "school_summary_table = school_data_complete.groupby(['school_name','type'])\n",
    "school_summary_table"
   ]
  },
  {
   "cell_type": "code",
   "execution_count": 23,
   "metadata": {},
   "outputs": [
    {
     "data": {
      "text/plain": [
       "school_name            type    \n",
       "Bailey High School     District    4976\n",
       "Cabrera High School    Charter     1858\n",
       "Figueroa High School   District    2949\n",
       "Ford High School       District    2739\n",
       "Griffin High School    Charter     1468\n",
       "Hernandez High School  District    4635\n",
       "Holden High School     Charter      427\n",
       "Huang High School      District    2917\n",
       "Johnson High School    District    4761\n",
       "Pena High School       Charter      962\n",
       "Rodriguez High School  District    3999\n",
       "Shelton High School    Charter     1761\n",
       "Thomas High School     Charter     1635\n",
       "Wilson High School     Charter     2283\n",
       "Wright High School     Charter     1800\n",
       "Name: Student ID, dtype: int64"
      ]
     },
     "execution_count": 23,
     "metadata": {},
     "output_type": "execute_result"
    }
   ],
   "source": [
    "total_students = school_summary_table[\"Student ID\"].count()\n",
    "total_students"
   ]
  },
  {
   "cell_type": "code",
   "execution_count": 24,
   "metadata": {},
   "outputs": [
    {
     "data": {
      "text/plain": [
       "school_name            type    \n",
       "Bailey High School     District    15549641728\n",
       "Cabrera High School    Charter      2009159448\n",
       "Figueroa High School   District     5557128039\n",
       "Ford High School       District     4831365924\n",
       "Griffin High School    Charter      1346890000\n",
       "Hernandez High School  District    14007062700\n",
       "Holden High School     Charter       105933149\n",
       "Huang High School      District     5573322295\n",
       "Johnson High School    District    14733628650\n",
       "Pena High School       Charter       563595396\n",
       "Rodriguez High School  District    10186904637\n",
       "Shelton High School    Charter      1860672600\n",
       "Thomas High School     Charter      1705517550\n",
       "Wilson High School     Charter      3012587442\n",
       "Wright High School     Charter      1888920000\n",
       "Name: budget, dtype: int64"
      ]
     },
     "execution_count": 24,
     "metadata": {},
     "output_type": "execute_result"
    }
   ],
   "source": [
    "total_budget = school_summary_table[\"budget\"].sum()\n",
    "total_budget"
   ]
  },
  {
   "cell_type": "code",
   "execution_count": 25,
   "metadata": {},
   "outputs": [
    {
     "data": {
      "text/html": [
       "<div>\n",
       "<style scoped>\n",
       "    .dataframe tbody tr th:only-of-type {\n",
       "        vertical-align: middle;\n",
       "    }\n",
       "\n",
       "    .dataframe tbody tr th {\n",
       "        vertical-align: top;\n",
       "    }\n",
       "\n",
       "    .dataframe thead th {\n",
       "        text-align: right;\n",
       "    }\n",
       "</style>\n",
       "<table border=\"1\" class=\"dataframe\">\n",
       "  <thead>\n",
       "    <tr style=\"text-align: right;\">\n",
       "      <th></th>\n",
       "      <th></th>\n",
       "      <th>Total Students</th>\n",
       "      <th>Total Student Budget</th>\n",
       "    </tr>\n",
       "    <tr>\n",
       "      <th>school_name</th>\n",
       "      <th>type</th>\n",
       "      <th></th>\n",
       "      <th></th>\n",
       "    </tr>\n",
       "  </thead>\n",
       "  <tbody>\n",
       "    <tr>\n",
       "      <th>Bailey High School</th>\n",
       "      <th>District</th>\n",
       "      <td>4976</td>\n",
       "      <td>15549641728</td>\n",
       "    </tr>\n",
       "    <tr>\n",
       "      <th>Cabrera High School</th>\n",
       "      <th>Charter</th>\n",
       "      <td>1858</td>\n",
       "      <td>2009159448</td>\n",
       "    </tr>\n",
       "    <tr>\n",
       "      <th>Figueroa High School</th>\n",
       "      <th>District</th>\n",
       "      <td>2949</td>\n",
       "      <td>5557128039</td>\n",
       "    </tr>\n",
       "    <tr>\n",
       "      <th>Ford High School</th>\n",
       "      <th>District</th>\n",
       "      <td>2739</td>\n",
       "      <td>4831365924</td>\n",
       "    </tr>\n",
       "    <tr>\n",
       "      <th>Griffin High School</th>\n",
       "      <th>Charter</th>\n",
       "      <td>1468</td>\n",
       "      <td>1346890000</td>\n",
       "    </tr>\n",
       "  </tbody>\n",
       "</table>\n",
       "</div>"
      ],
      "text/plain": [
       "                               Total Students  Total Student Budget\n",
       "school_name          type                                          \n",
       "Bailey High School   District            4976           15549641728\n",
       "Cabrera High School  Charter             1858            2009159448\n",
       "Figueroa High School District            2949            5557128039\n",
       "Ford High School     District            2739            4831365924\n",
       "Griffin High School  Charter             1468            1346890000"
      ]
     },
     "execution_count": 25,
     "metadata": {},
     "output_type": "execute_result"
    }
   ],
   "source": [
    "summary_table1 = pd.DataFrame({\"Total Students\": total_students,\n",
    "                                    \"Total Student Budget\": total_budget})\n",
    "summary_table1.head()"
   ]
  },
  {
   "cell_type": "code",
   "execution_count": 26,
   "metadata": {},
   "outputs": [
    {
     "data": {
      "text/plain": [
       "school_name            type    \n",
       "Bailey High School     District    3124928.0\n",
       "Cabrera High School    Charter     1081356.0\n",
       "Figueroa High School   District    1884411.0\n",
       "Ford High School       District    1763916.0\n",
       "Griffin High School    Charter      917500.0\n",
       "Hernandez High School  District    3022020.0\n",
       "Holden High School     Charter      248087.0\n",
       "Huang High School      District    1910635.0\n",
       "Johnson High School    District    3094650.0\n",
       "Pena High School       Charter      585858.0\n",
       "Rodriguez High School  District    2547363.0\n",
       "Shelton High School    Charter     1056600.0\n",
       "Thomas High School     Charter     1043130.0\n",
       "Wilson High School     Charter     1319574.0\n",
       "Wright High School     Charter     1049400.0\n",
       "dtype: float64"
      ]
     },
     "execution_count": 26,
     "metadata": {},
     "output_type": "execute_result"
    }
   ],
   "source": [
    "Per_Student_Budget = total_budget/total_students\n",
    "Per_Student_Budget"
   ]
  },
  {
   "cell_type": "code",
   "execution_count": 27,
   "metadata": {},
   "outputs": [
    {
     "data": {
      "text/plain": [
       "school_name            type    \n",
       "Bailey High School     District    77.048432\n",
       "Cabrera High School    Charter     83.061895\n",
       "Figueroa High School   District    76.711767\n",
       "Ford High School       District    77.102592\n",
       "Griffin High School    Charter     83.351499\n",
       "Hernandez High School  District    77.289752\n",
       "Holden High School     Charter     83.803279\n",
       "Huang High School      District    76.629414\n",
       "Johnson High School    District    77.072464\n",
       "Pena High School       Charter     83.839917\n",
       "Rodriguez High School  District    76.842711\n",
       "Shelton High School    Charter     83.359455\n",
       "Thomas High School     Charter     83.418349\n",
       "Wilson High School     Charter     83.274201\n",
       "Wright High School     Charter     83.682222\n",
       "Name: math_score, dtype: float64"
      ]
     },
     "execution_count": 27,
     "metadata": {},
     "output_type": "execute_result"
    }
   ],
   "source": [
    "avg_math_score = school_summary_table[\"math_score\"].mean()\n",
    "avg_math_score"
   ]
  },
  {
   "cell_type": "code",
   "execution_count": 28,
   "metadata": {},
   "outputs": [
    {
     "data": {
      "text/plain": [
       "school_name            type    \n",
       "Bailey High School     District    81.033963\n",
       "Cabrera High School    Charter     83.975780\n",
       "Figueroa High School   District    81.158020\n",
       "Ford High School       District    80.746258\n",
       "Griffin High School    Charter     83.816757\n",
       "Hernandez High School  District    80.934412\n",
       "Holden High School     Charter     83.814988\n",
       "Huang High School      District    81.182722\n",
       "Johnson High School    District    80.966394\n",
       "Pena High School       Charter     84.044699\n",
       "Rodriguez High School  District    80.744686\n",
       "Shelton High School    Charter     83.725724\n",
       "Thomas High School     Charter     83.848930\n",
       "Wilson High School     Charter     83.989488\n",
       "Wright High School     Charter     83.955000\n",
       "Name: reading_score, dtype: float64"
      ]
     },
     "execution_count": 28,
     "metadata": {},
     "output_type": "execute_result"
    }
   ],
   "source": [
    "avg_reading_score = school_summary_table[\"reading_score\"].mean()\n",
    "avg_reading_score"
   ]
  },
  {
   "cell_type": "code",
   "execution_count": 29,
   "metadata": {},
   "outputs": [],
   "source": [
    "school_passing_math = school_data_complete.loc[(school_data_complete[\"math_score\"] >= 70)]"
   ]
  },
  {
   "cell_type": "code",
   "execution_count": 30,
   "metadata": {},
   "outputs": [],
   "source": [
    "school_passing_reading = school_data_complete.loc[(school_data_complete[\"reading_score\"] >= 70)]"
   ]
  },
  {
   "cell_type": "code",
   "execution_count": 31,
   "metadata": {},
   "outputs": [
    {
     "data": {
      "text/plain": [
       "<pandas.core.groupby.groupby.DataFrameGroupBy object at 0x00000245A3745B00>"
      ]
     },
     "execution_count": 31,
     "metadata": {},
     "output_type": "execute_result"
    }
   ],
   "source": [
    "school_math_summary = school_passing_math.groupby(['school_name','type'])\n",
    "school_math_summary"
   ]
  },
  {
   "cell_type": "code",
   "execution_count": 32,
   "metadata": {},
   "outputs": [
    {
     "data": {
      "text/plain": [
       "<pandas.core.groupby.groupby.DataFrameGroupBy object at 0x00000245A3745F28>"
      ]
     },
     "execution_count": 32,
     "metadata": {},
     "output_type": "execute_result"
    }
   ],
   "source": [
    "school_reading_summary = school_passing_reading.groupby(['school_name','type'])\n",
    "school_reading_summary"
   ]
  },
  {
   "cell_type": "code",
   "execution_count": 33,
   "metadata": {},
   "outputs": [
    {
     "data": {
      "text/plain": [
       "school_name            type    \n",
       "Bailey High School     District    84.505124\n",
       "Cabrera High School    Charter     83.972556\n",
       "Figueroa High School   District    84.310894\n",
       "Ford High School       District    84.165687\n",
       "Griffin High School    Charter     84.394602\n",
       "Hernandez High School  District    84.936975\n",
       "Holden High School     Charter     85.040506\n",
       "Huang High School      District    84.240084\n",
       "Johnson High School    District    84.742448\n",
       "Pena High School       Charter     84.719780\n",
       "Rodriguez High School  District    84.339111\n",
       "Shelton High School    Charter     84.326679\n",
       "Thomas High School     Charter     84.497705\n",
       "Wilson High School     Charter     84.244050\n",
       "Wright High School     Charter     84.758929\n",
       "Name: math_score, dtype: float64"
      ]
     },
     "execution_count": 33,
     "metadata": {},
     "output_type": "execute_result"
    }
   ],
   "source": [
    "avg_pass_math = school_math_summary[\"math_score\"].mean()\n",
    "avg_pass_math"
   ]
  },
  {
   "cell_type": "code",
   "execution_count": 34,
   "metadata": {},
   "outputs": [
    {
     "data": {
      "text/plain": [
       "school_name            type    \n",
       "Bailey High School     District    84.362521\n",
       "Cabrera High School    Charter     84.432612\n",
       "Figueroa High School   District    84.767745\n",
       "Ford High School       District    84.612799\n",
       "Griffin High School    Charter     84.253156\n",
       "Hernandez High School  District    84.483725\n",
       "Holden High School     Charter     84.391727\n",
       "Huang High School      District    84.691400\n",
       "Johnson High School    District    84.430566\n",
       "Pena High School       Charter     84.680390\n",
       "Rodriguez High School  District    84.374377\n",
       "Shelton High School    Charter     84.362559\n",
       "Thomas High School     Charter     84.259585\n",
       "Wilson High School     Charter     84.526770\n",
       "Wright High School     Charter     84.479586\n",
       "Name: reading_score, dtype: float64"
      ]
     },
     "execution_count": 34,
     "metadata": {},
     "output_type": "execute_result"
    }
   ],
   "source": [
    "avg_pass_reading = school_reading_summary[\"reading_score\"].mean()\n",
    "avg_pass_reading"
   ]
  },
  {
   "cell_type": "code",
   "execution_count": 35,
   "metadata": {},
   "outputs": [
    {
     "data": {
      "text/plain": [
       "school_name            type    \n",
       "Bailey High School     District    3318\n",
       "Cabrera High School    Charter     1749\n",
       "Figueroa High School   District    1946\n",
       "Ford High School       District    1871\n",
       "Griffin High School    Charter     1371\n",
       "Hernandez High School  District    3094\n",
       "Holden High School     Charter      395\n",
       "Huang High School      District    1916\n",
       "Johnson High School    District    3145\n",
       "Pena High School       Charter      910\n",
       "Rodriguez High School  District    2654\n",
       "Shelton High School    Charter     1653\n",
       "Thomas High School     Charter     1525\n",
       "Wilson High School     Charter     2143\n",
       "Wright High School     Charter     1680\n",
       "Name: Student ID, dtype: int64"
      ]
     },
     "execution_count": 35,
     "metadata": {},
     "output_type": "execute_result"
    }
   ],
   "source": [
    "passing_school_math_students = school_math_summary[\"Student ID\"].count()\n",
    "passing_school_math_students"
   ]
  },
  {
   "cell_type": "code",
   "execution_count": 36,
   "metadata": {},
   "outputs": [
    {
     "data": {
      "text/plain": [
       "school_name            type    \n",
       "Bailey High School     District    4077\n",
       "Cabrera High School    Charter     1803\n",
       "Figueroa High School   District    2381\n",
       "Ford High School       District    2172\n",
       "Griffin High School    Charter     1426\n",
       "Hernandez High School  District    3748\n",
       "Holden High School     Charter      411\n",
       "Huang High School      District    2372\n",
       "Johnson High School    District    3867\n",
       "Pena High School       Charter      923\n",
       "Rodriguez High School  District    3208\n",
       "Shelton High School    Charter     1688\n",
       "Thomas High School     Charter     1591\n",
       "Wilson High School     Charter     2204\n",
       "Wright High School     Charter     1739\n",
       "Name: Student ID, dtype: int64"
      ]
     },
     "execution_count": 36,
     "metadata": {},
     "output_type": "execute_result"
    }
   ],
   "source": [
    "passing_school_reading_students = school_reading_summary[\"Student ID\"].count()\n",
    "passing_school_reading_students"
   ]
  },
  {
   "cell_type": "code",
   "execution_count": 37,
   "metadata": {},
   "outputs": [
    {
     "data": {
      "text/plain": [
       "school_name            type    \n",
       "Bailey High School     District    66.680064\n",
       "Cabrera High School    Charter     94.133477\n",
       "Figueroa High School   District    65.988471\n",
       "Ford High School       District    68.309602\n",
       "Griffin High School    Charter     93.392371\n",
       "Hernandez High School  District    66.752967\n",
       "Holden High School     Charter     92.505855\n",
       "Huang High School      District    65.683922\n",
       "Johnson High School    District    66.057551\n",
       "Pena High School       Charter     94.594595\n",
       "Rodriguez High School  District    66.366592\n",
       "Shelton High School    Charter     93.867121\n",
       "Thomas High School     Charter     93.272171\n",
       "Wilson High School     Charter     93.867718\n",
       "Wright High School     Charter     93.333333\n",
       "Name: Student ID, dtype: float64"
      ]
     },
     "execution_count": 37,
     "metadata": {},
     "output_type": "execute_result"
    }
   ],
   "source": [
    "passing_school_math_percent = (passing_school_math_students/total_students)*100\n",
    "passing_school_math_percent"
   ]
  },
  {
   "cell_type": "code",
   "execution_count": 38,
   "metadata": {},
   "outputs": [
    {
     "data": {
      "text/plain": [
       "school_name            type    \n",
       "Bailey High School     District    81.933280\n",
       "Cabrera High School    Charter     97.039828\n",
       "Figueroa High School   District    80.739234\n",
       "Ford High School       District    79.299014\n",
       "Griffin High School    Charter     97.138965\n",
       "Hernandez High School  District    80.862999\n",
       "Holden High School     Charter     96.252927\n",
       "Huang High School      District    81.316421\n",
       "Johnson High School    District    81.222432\n",
       "Pena High School       Charter     95.945946\n",
       "Rodriguez High School  District    80.220055\n",
       "Shelton High School    Charter     95.854628\n",
       "Thomas High School     Charter     97.308869\n",
       "Wilson High School     Charter     96.539641\n",
       "Wright High School     Charter     96.611111\n",
       "Name: Student ID, dtype: float64"
      ]
     },
     "execution_count": 38,
     "metadata": {},
     "output_type": "execute_result"
    }
   ],
   "source": [
    "passing_school_reading_percent = (passing_school_reading_students/total_students)*100\n",
    "passing_school_reading_percent"
   ]
  },
  {
   "cell_type": "code",
   "execution_count": 39,
   "metadata": {},
   "outputs": [
    {
     "data": {
      "text/plain": [
       "school_name            type    \n",
       "Bailey High School     District    84.433823\n",
       "Cabrera High School    Charter     84.202584\n",
       "Figueroa High School   District    84.539319\n",
       "Ford High School       District    84.389243\n",
       "Griffin High School    Charter     84.323879\n",
       "Hernandez High School  District    84.710350\n",
       "Holden High School     Charter     84.716117\n",
       "Huang High School      District    84.465742\n",
       "Johnson High School    District    84.586507\n",
       "Pena High School       Charter     84.700085\n",
       "Rodriguez High School  District    84.356744\n",
       "Shelton High School    Charter     84.344619\n",
       "Thomas High School     Charter     84.378645\n",
       "Wilson High School     Charter     84.385410\n",
       "Wright High School     Charter     84.619257\n",
       "dtype: float64"
      ]
     },
     "execution_count": 39,
     "metadata": {},
     "output_type": "execute_result"
    }
   ],
   "source": [
    "overll_pass_rate = (avg_pass_math + avg_pass_reading)/2\n",
    "overll_pass_rate"
   ]
  },
  {
   "cell_type": "code",
   "execution_count": 60,
   "metadata": {},
   "outputs": [
    {
     "data": {
      "text/html": [
       "<div>\n",
       "<style scoped>\n",
       "    .dataframe tbody tr th:only-of-type {\n",
       "        vertical-align: middle;\n",
       "    }\n",
       "\n",
       "    .dataframe tbody tr th {\n",
       "        vertical-align: top;\n",
       "    }\n",
       "\n",
       "    .dataframe thead th {\n",
       "        text-align: right;\n",
       "    }\n",
       "</style>\n",
       "<table border=\"1\" class=\"dataframe\">\n",
       "  <thead>\n",
       "    <tr style=\"text-align: right;\">\n",
       "      <th></th>\n",
       "      <th></th>\n",
       "      <th>Total Students</th>\n",
       "      <th>Total Student Budget</th>\n",
       "      <th>Per Student Budget</th>\n",
       "      <th>Average Math Score</th>\n",
       "      <th>Average Reading Score</th>\n",
       "      <th>% Passing Math</th>\n",
       "      <th>% Passing Reading</th>\n",
       "      <th>Overall Passing Rate</th>\n",
       "    </tr>\n",
       "    <tr>\n",
       "      <th>school_name</th>\n",
       "      <th>type</th>\n",
       "      <th></th>\n",
       "      <th></th>\n",
       "      <th></th>\n",
       "      <th></th>\n",
       "      <th></th>\n",
       "      <th></th>\n",
       "      <th></th>\n",
       "      <th></th>\n",
       "    </tr>\n",
       "  </thead>\n",
       "  <tbody>\n",
       "    <tr>\n",
       "      <th>Bailey High School</th>\n",
       "      <th>District</th>\n",
       "      <td>4,976</td>\n",
       "      <td>$15,549,641,728</td>\n",
       "      <td>$3,124,928.0</td>\n",
       "      <td>84.51</td>\n",
       "      <td>84.36</td>\n",
       "      <td>66.68</td>\n",
       "      <td>81.93</td>\n",
       "      <td>84.43</td>\n",
       "    </tr>\n",
       "    <tr>\n",
       "      <th>Cabrera High School</th>\n",
       "      <th>Charter</th>\n",
       "      <td>1,858</td>\n",
       "      <td>$2,009,159,448</td>\n",
       "      <td>$1,081,356.0</td>\n",
       "      <td>83.97</td>\n",
       "      <td>84.43</td>\n",
       "      <td>94.13</td>\n",
       "      <td>97.04</td>\n",
       "      <td>84.20</td>\n",
       "    </tr>\n",
       "    <tr>\n",
       "      <th>Figueroa High School</th>\n",
       "      <th>District</th>\n",
       "      <td>2,949</td>\n",
       "      <td>$5,557,128,039</td>\n",
       "      <td>$1,884,411.0</td>\n",
       "      <td>84.31</td>\n",
       "      <td>84.77</td>\n",
       "      <td>65.99</td>\n",
       "      <td>80.74</td>\n",
       "      <td>84.54</td>\n",
       "    </tr>\n",
       "    <tr>\n",
       "      <th>Ford High School</th>\n",
       "      <th>District</th>\n",
       "      <td>2,739</td>\n",
       "      <td>$4,831,365,924</td>\n",
       "      <td>$1,763,916.0</td>\n",
       "      <td>84.17</td>\n",
       "      <td>84.61</td>\n",
       "      <td>68.31</td>\n",
       "      <td>79.30</td>\n",
       "      <td>84.39</td>\n",
       "    </tr>\n",
       "    <tr>\n",
       "      <th>Griffin High School</th>\n",
       "      <th>Charter</th>\n",
       "      <td>1,468</td>\n",
       "      <td>$1,346,890,000</td>\n",
       "      <td>$917,500.0</td>\n",
       "      <td>84.39</td>\n",
       "      <td>84.25</td>\n",
       "      <td>93.39</td>\n",
       "      <td>97.14</td>\n",
       "      <td>84.32</td>\n",
       "    </tr>\n",
       "    <tr>\n",
       "      <th>Hernandez High School</th>\n",
       "      <th>District</th>\n",
       "      <td>4,635</td>\n",
       "      <td>$14,007,062,700</td>\n",
       "      <td>$3,022,020.0</td>\n",
       "      <td>84.94</td>\n",
       "      <td>84.48</td>\n",
       "      <td>66.75</td>\n",
       "      <td>80.86</td>\n",
       "      <td>84.71</td>\n",
       "    </tr>\n",
       "    <tr>\n",
       "      <th>Holden High School</th>\n",
       "      <th>Charter</th>\n",
       "      <td>427</td>\n",
       "      <td>$105,933,149</td>\n",
       "      <td>$248,087.0</td>\n",
       "      <td>85.04</td>\n",
       "      <td>84.39</td>\n",
       "      <td>92.51</td>\n",
       "      <td>96.25</td>\n",
       "      <td>84.72</td>\n",
       "    </tr>\n",
       "    <tr>\n",
       "      <th>Huang High School</th>\n",
       "      <th>District</th>\n",
       "      <td>2,917</td>\n",
       "      <td>$5,573,322,295</td>\n",
       "      <td>$1,910,635.0</td>\n",
       "      <td>84.24</td>\n",
       "      <td>84.69</td>\n",
       "      <td>65.68</td>\n",
       "      <td>81.32</td>\n",
       "      <td>84.47</td>\n",
       "    </tr>\n",
       "    <tr>\n",
       "      <th>Johnson High School</th>\n",
       "      <th>District</th>\n",
       "      <td>4,761</td>\n",
       "      <td>$14,733,628,650</td>\n",
       "      <td>$3,094,650.0</td>\n",
       "      <td>84.74</td>\n",
       "      <td>84.43</td>\n",
       "      <td>66.06</td>\n",
       "      <td>81.22</td>\n",
       "      <td>84.59</td>\n",
       "    </tr>\n",
       "    <tr>\n",
       "      <th>Pena High School</th>\n",
       "      <th>Charter</th>\n",
       "      <td>962</td>\n",
       "      <td>$563,595,396</td>\n",
       "      <td>$585,858.0</td>\n",
       "      <td>84.72</td>\n",
       "      <td>84.68</td>\n",
       "      <td>94.59</td>\n",
       "      <td>95.95</td>\n",
       "      <td>84.70</td>\n",
       "    </tr>\n",
       "    <tr>\n",
       "      <th>Rodriguez High School</th>\n",
       "      <th>District</th>\n",
       "      <td>3,999</td>\n",
       "      <td>$10,186,904,637</td>\n",
       "      <td>$2,547,363.0</td>\n",
       "      <td>84.34</td>\n",
       "      <td>84.37</td>\n",
       "      <td>66.37</td>\n",
       "      <td>80.22</td>\n",
       "      <td>84.36</td>\n",
       "    </tr>\n",
       "    <tr>\n",
       "      <th>Shelton High School</th>\n",
       "      <th>Charter</th>\n",
       "      <td>1,761</td>\n",
       "      <td>$1,860,672,600</td>\n",
       "      <td>$1,056,600.0</td>\n",
       "      <td>84.33</td>\n",
       "      <td>84.36</td>\n",
       "      <td>93.87</td>\n",
       "      <td>95.85</td>\n",
       "      <td>84.34</td>\n",
       "    </tr>\n",
       "    <tr>\n",
       "      <th>Thomas High School</th>\n",
       "      <th>Charter</th>\n",
       "      <td>1,635</td>\n",
       "      <td>$1,705,517,550</td>\n",
       "      <td>$1,043,130.0</td>\n",
       "      <td>84.50</td>\n",
       "      <td>84.26</td>\n",
       "      <td>93.27</td>\n",
       "      <td>97.31</td>\n",
       "      <td>84.38</td>\n",
       "    </tr>\n",
       "    <tr>\n",
       "      <th>Wilson High School</th>\n",
       "      <th>Charter</th>\n",
       "      <td>2,283</td>\n",
       "      <td>$3,012,587,442</td>\n",
       "      <td>$1,319,574.0</td>\n",
       "      <td>84.24</td>\n",
       "      <td>84.53</td>\n",
       "      <td>93.87</td>\n",
       "      <td>96.54</td>\n",
       "      <td>84.39</td>\n",
       "    </tr>\n",
       "    <tr>\n",
       "      <th>Wright High School</th>\n",
       "      <th>Charter</th>\n",
       "      <td>1,800</td>\n",
       "      <td>$1,888,920,000</td>\n",
       "      <td>$1,049,400.0</td>\n",
       "      <td>84.76</td>\n",
       "      <td>84.48</td>\n",
       "      <td>93.33</td>\n",
       "      <td>96.61</td>\n",
       "      <td>84.62</td>\n",
       "    </tr>\n",
       "  </tbody>\n",
       "</table>\n",
       "</div>"
      ],
      "text/plain": [
       "                               Total Students Total Student Budget  \\\n",
       "school_name           type                                           \n",
       "Bailey High School    District          4,976      $15,549,641,728   \n",
       "Cabrera High School   Charter           1,858       $2,009,159,448   \n",
       "Figueroa High School  District          2,949       $5,557,128,039   \n",
       "Ford High School      District          2,739       $4,831,365,924   \n",
       "Griffin High School   Charter           1,468       $1,346,890,000   \n",
       "Hernandez High School District          4,635      $14,007,062,700   \n",
       "Holden High School    Charter             427         $105,933,149   \n",
       "Huang High School     District          2,917       $5,573,322,295   \n",
       "Johnson High School   District          4,761      $14,733,628,650   \n",
       "Pena High School      Charter             962         $563,595,396   \n",
       "Rodriguez High School District          3,999      $10,186,904,637   \n",
       "Shelton High School   Charter           1,761       $1,860,672,600   \n",
       "Thomas High School    Charter           1,635       $1,705,517,550   \n",
       "Wilson High School    Charter           2,283       $3,012,587,442   \n",
       "Wright High School    Charter           1,800       $1,888,920,000   \n",
       "\n",
       "                               Per Student Budget Average Math Score  \\\n",
       "school_name           type                                             \n",
       "Bailey High School    District       $3,124,928.0              84.51   \n",
       "Cabrera High School   Charter        $1,081,356.0              83.97   \n",
       "Figueroa High School  District       $1,884,411.0              84.31   \n",
       "Ford High School      District       $1,763,916.0              84.17   \n",
       "Griffin High School   Charter          $917,500.0              84.39   \n",
       "Hernandez High School District       $3,022,020.0              84.94   \n",
       "Holden High School    Charter          $248,087.0              85.04   \n",
       "Huang High School     District       $1,910,635.0              84.24   \n",
       "Johnson High School   District       $3,094,650.0              84.74   \n",
       "Pena High School      Charter          $585,858.0              84.72   \n",
       "Rodriguez High School District       $2,547,363.0              84.34   \n",
       "Shelton High School   Charter        $1,056,600.0              84.33   \n",
       "Thomas High School    Charter        $1,043,130.0              84.50   \n",
       "Wilson High School    Charter        $1,319,574.0              84.24   \n",
       "Wright High School    Charter        $1,049,400.0              84.76   \n",
       "\n",
       "                               Average Reading Score % Passing Math  \\\n",
       "school_name           type                                            \n",
       "Bailey High School    District                 84.36          66.68   \n",
       "Cabrera High School   Charter                  84.43          94.13   \n",
       "Figueroa High School  District                 84.77          65.99   \n",
       "Ford High School      District                 84.61          68.31   \n",
       "Griffin High School   Charter                  84.25          93.39   \n",
       "Hernandez High School District                 84.48          66.75   \n",
       "Holden High School    Charter                  84.39          92.51   \n",
       "Huang High School     District                 84.69          65.68   \n",
       "Johnson High School   District                 84.43          66.06   \n",
       "Pena High School      Charter                  84.68          94.59   \n",
       "Rodriguez High School District                 84.37          66.37   \n",
       "Shelton High School   Charter                  84.36          93.87   \n",
       "Thomas High School    Charter                  84.26          93.27   \n",
       "Wilson High School    Charter                  84.53          93.87   \n",
       "Wright High School    Charter                  84.48          93.33   \n",
       "\n",
       "                               % Passing Reading Overall Passing Rate  \n",
       "school_name           type                                             \n",
       "Bailey High School    District             81.93                84.43  \n",
       "Cabrera High School   Charter              97.04                84.20  \n",
       "Figueroa High School  District             80.74                84.54  \n",
       "Ford High School      District             79.30                84.39  \n",
       "Griffin High School   Charter              97.14                84.32  \n",
       "Hernandez High School District             80.86                84.71  \n",
       "Holden High School    Charter              96.25                84.72  \n",
       "Huang High School     District             81.32                84.47  \n",
       "Johnson High School   District             81.22                84.59  \n",
       "Pena High School      Charter              95.95                84.70  \n",
       "Rodriguez High School District             80.22                84.36  \n",
       "Shelton High School   Charter              95.85                84.34  \n",
       "Thomas High School    Charter              97.31                84.38  \n",
       "Wilson High School    Charter              96.54                84.39  \n",
       "Wright High School    Charter              96.61                84.62  "
      ]
     },
     "execution_count": 60,
     "metadata": {},
     "output_type": "execute_result"
    }
   ],
   "source": [
    "#Overview table that summarizes key metrics about each school\n",
    "school_summary_results = pd.DataFrame({\"Total Students\": total_students.map(\"{:,}\".format),\"Total Student Budget\": total_budget.map(\"${:,}\".format),\n",
    "                              \"Per Student Budget\":Per_Student_Budget.map(\"${:,}\".format),\"Average Math Score\":avg_pass_math.map(\"{:.2f}\".format),\n",
    "                              \"Average Reading Score\":avg_pass_reading.map(\"{:.2f}\".format), \"% Passing Math\":passing_school_math_percent.map(\"{:.2f}\".format),\n",
    "                              \"% Passing Reading\":passing_school_reading_percent.map(\"{:.2f}\".format), \"Overall Passing Rate\":overll_pass_rate.map(\"{:.2f}\".format)})\n",
    "school_summary_results.head(100)"
   ]
  },
  {
   "cell_type": "code",
   "execution_count": 61,
   "metadata": {},
   "outputs": [
    {
     "data": {
      "text/html": [
       "<div>\n",
       "<style scoped>\n",
       "    .dataframe tbody tr th:only-of-type {\n",
       "        vertical-align: middle;\n",
       "    }\n",
       "\n",
       "    .dataframe tbody tr th {\n",
       "        vertical-align: top;\n",
       "    }\n",
       "\n",
       "    .dataframe thead th {\n",
       "        text-align: right;\n",
       "    }\n",
       "</style>\n",
       "<table border=\"1\" class=\"dataframe\">\n",
       "  <thead>\n",
       "    <tr style=\"text-align: right;\">\n",
       "      <th></th>\n",
       "      <th></th>\n",
       "      <th>Total Students</th>\n",
       "      <th>Total Student Budget</th>\n",
       "      <th>Per Student Budget</th>\n",
       "      <th>Average Math Score</th>\n",
       "      <th>Average Reading Score</th>\n",
       "      <th>% Passing Math</th>\n",
       "      <th>% Passing Reading</th>\n",
       "      <th>Overall Passing Rate</th>\n",
       "    </tr>\n",
       "    <tr>\n",
       "      <th>school_name</th>\n",
       "      <th>type</th>\n",
       "      <th></th>\n",
       "      <th></th>\n",
       "      <th></th>\n",
       "      <th></th>\n",
       "      <th></th>\n",
       "      <th></th>\n",
       "      <th></th>\n",
       "      <th></th>\n",
       "    </tr>\n",
       "  </thead>\n",
       "  <tbody>\n",
       "    <tr>\n",
       "      <th>Holden High School</th>\n",
       "      <th>Charter</th>\n",
       "      <td>427</td>\n",
       "      <td>$105,933,149</td>\n",
       "      <td>$248,087.0</td>\n",
       "      <td>85.04</td>\n",
       "      <td>84.39</td>\n",
       "      <td>92.51</td>\n",
       "      <td>96.25</td>\n",
       "      <td>84.72</td>\n",
       "    </tr>\n",
       "    <tr>\n",
       "      <th>Hernandez High School</th>\n",
       "      <th>District</th>\n",
       "      <td>4,635</td>\n",
       "      <td>$14,007,062,700</td>\n",
       "      <td>$3,022,020.0</td>\n",
       "      <td>84.94</td>\n",
       "      <td>84.48</td>\n",
       "      <td>66.75</td>\n",
       "      <td>80.86</td>\n",
       "      <td>84.71</td>\n",
       "    </tr>\n",
       "    <tr>\n",
       "      <th>Pena High School</th>\n",
       "      <th>Charter</th>\n",
       "      <td>962</td>\n",
       "      <td>$563,595,396</td>\n",
       "      <td>$585,858.0</td>\n",
       "      <td>84.72</td>\n",
       "      <td>84.68</td>\n",
       "      <td>94.59</td>\n",
       "      <td>95.95</td>\n",
       "      <td>84.70</td>\n",
       "    </tr>\n",
       "    <tr>\n",
       "      <th>Wright High School</th>\n",
       "      <th>Charter</th>\n",
       "      <td>1,800</td>\n",
       "      <td>$1,888,920,000</td>\n",
       "      <td>$1,049,400.0</td>\n",
       "      <td>84.76</td>\n",
       "      <td>84.48</td>\n",
       "      <td>93.33</td>\n",
       "      <td>96.61</td>\n",
       "      <td>84.62</td>\n",
       "    </tr>\n",
       "    <tr>\n",
       "      <th>Johnson High School</th>\n",
       "      <th>District</th>\n",
       "      <td>4,761</td>\n",
       "      <td>$14,733,628,650</td>\n",
       "      <td>$3,094,650.0</td>\n",
       "      <td>84.74</td>\n",
       "      <td>84.43</td>\n",
       "      <td>66.06</td>\n",
       "      <td>81.22</td>\n",
       "      <td>84.59</td>\n",
       "    </tr>\n",
       "  </tbody>\n",
       "</table>\n",
       "</div>"
      ],
      "text/plain": [
       "                               Total Students Total Student Budget  \\\n",
       "school_name           type                                           \n",
       "Holden High School    Charter             427         $105,933,149   \n",
       "Hernandez High School District          4,635      $14,007,062,700   \n",
       "Pena High School      Charter             962         $563,595,396   \n",
       "Wright High School    Charter           1,800       $1,888,920,000   \n",
       "Johnson High School   District          4,761      $14,733,628,650   \n",
       "\n",
       "                               Per Student Budget Average Math Score  \\\n",
       "school_name           type                                             \n",
       "Holden High School    Charter          $248,087.0              85.04   \n",
       "Hernandez High School District       $3,022,020.0              84.94   \n",
       "Pena High School      Charter          $585,858.0              84.72   \n",
       "Wright High School    Charter        $1,049,400.0              84.76   \n",
       "Johnson High School   District       $3,094,650.0              84.74   \n",
       "\n",
       "                               Average Reading Score % Passing Math  \\\n",
       "school_name           type                                            \n",
       "Holden High School    Charter                  84.39          92.51   \n",
       "Hernandez High School District                 84.48          66.75   \n",
       "Pena High School      Charter                  84.68          94.59   \n",
       "Wright High School    Charter                  84.48          93.33   \n",
       "Johnson High School   District                 84.43          66.06   \n",
       "\n",
       "                               % Passing Reading Overall Passing Rate  \n",
       "school_name           type                                             \n",
       "Holden High School    Charter              96.25                84.72  \n",
       "Hernandez High School District             80.86                84.71  \n",
       "Pena High School      Charter              95.95                84.70  \n",
       "Wright High School    Charter              96.61                84.62  \n",
       "Johnson High School   District             81.22                84.59  "
      ]
     },
     "execution_count": 61,
     "metadata": {},
     "output_type": "execute_result"
    }
   ],
   "source": [
    "#Top five performing schools by overall passing rate\n",
    "top_performing_schools = school_summary_results.sort_values([\"Overall Passing Rate\"], ascending=False)\n",
    "top_performing_schools.head(5) "
   ]
  },
  {
   "cell_type": "code",
   "execution_count": 74,
   "metadata": {},
   "outputs": [
    {
     "data": {
      "text/html": [
       "<div>\n",
       "<style scoped>\n",
       "    .dataframe tbody tr th:only-of-type {\n",
       "        vertical-align: middle;\n",
       "    }\n",
       "\n",
       "    .dataframe tbody tr th {\n",
       "        vertical-align: top;\n",
       "    }\n",
       "\n",
       "    .dataframe thead th {\n",
       "        text-align: right;\n",
       "    }\n",
       "</style>\n",
       "<table border=\"1\" class=\"dataframe\">\n",
       "  <thead>\n",
       "    <tr style=\"text-align: right;\">\n",
       "      <th></th>\n",
       "      <th></th>\n",
       "      <th>Total Students</th>\n",
       "      <th>Total Student Budget</th>\n",
       "      <th>Per Student Budget</th>\n",
       "      <th>Average Math Score</th>\n",
       "      <th>Average Reading Score</th>\n",
       "      <th>% Passing Math</th>\n",
       "      <th>% Passing Reading</th>\n",
       "      <th>Overall Passing Rate</th>\n",
       "    </tr>\n",
       "    <tr>\n",
       "      <th>school_name</th>\n",
       "      <th>type</th>\n",
       "      <th></th>\n",
       "      <th></th>\n",
       "      <th></th>\n",
       "      <th></th>\n",
       "      <th></th>\n",
       "      <th></th>\n",
       "      <th></th>\n",
       "      <th></th>\n",
       "    </tr>\n",
       "  </thead>\n",
       "  <tbody>\n",
       "    <tr>\n",
       "      <th>Cabrera High School</th>\n",
       "      <th>Charter</th>\n",
       "      <td>1,858</td>\n",
       "      <td>$2,009,159,448</td>\n",
       "      <td>$1,081,356.0</td>\n",
       "      <td>83.97</td>\n",
       "      <td>84.43</td>\n",
       "      <td>94.13</td>\n",
       "      <td>97.04</td>\n",
       "      <td>84.20</td>\n",
       "    </tr>\n",
       "    <tr>\n",
       "      <th>Griffin High School</th>\n",
       "      <th>Charter</th>\n",
       "      <td>1,468</td>\n",
       "      <td>$1,346,890,000</td>\n",
       "      <td>$917,500.0</td>\n",
       "      <td>84.39</td>\n",
       "      <td>84.25</td>\n",
       "      <td>93.39</td>\n",
       "      <td>97.14</td>\n",
       "      <td>84.32</td>\n",
       "    </tr>\n",
       "    <tr>\n",
       "      <th>Shelton High School</th>\n",
       "      <th>Charter</th>\n",
       "      <td>1,761</td>\n",
       "      <td>$1,860,672,600</td>\n",
       "      <td>$1,056,600.0</td>\n",
       "      <td>84.33</td>\n",
       "      <td>84.36</td>\n",
       "      <td>93.87</td>\n",
       "      <td>95.85</td>\n",
       "      <td>84.34</td>\n",
       "    </tr>\n",
       "    <tr>\n",
       "      <th>Rodriguez High School</th>\n",
       "      <th>District</th>\n",
       "      <td>3,999</td>\n",
       "      <td>$10,186,904,637</td>\n",
       "      <td>$2,547,363.0</td>\n",
       "      <td>84.34</td>\n",
       "      <td>84.37</td>\n",
       "      <td>66.37</td>\n",
       "      <td>80.22</td>\n",
       "      <td>84.36</td>\n",
       "    </tr>\n",
       "    <tr>\n",
       "      <th>Thomas High School</th>\n",
       "      <th>Charter</th>\n",
       "      <td>1,635</td>\n",
       "      <td>$1,705,517,550</td>\n",
       "      <td>$1,043,130.0</td>\n",
       "      <td>84.50</td>\n",
       "      <td>84.26</td>\n",
       "      <td>93.27</td>\n",
       "      <td>97.31</td>\n",
       "      <td>84.38</td>\n",
       "    </tr>\n",
       "  </tbody>\n",
       "</table>\n",
       "</div>"
      ],
      "text/plain": [
       "                               Total Students Total Student Budget  \\\n",
       "school_name           type                                           \n",
       "Cabrera High School   Charter           1,858       $2,009,159,448   \n",
       "Griffin High School   Charter           1,468       $1,346,890,000   \n",
       "Shelton High School   Charter           1,761       $1,860,672,600   \n",
       "Rodriguez High School District          3,999      $10,186,904,637   \n",
       "Thomas High School    Charter           1,635       $1,705,517,550   \n",
       "\n",
       "                               Per Student Budget Average Math Score  \\\n",
       "school_name           type                                             \n",
       "Cabrera High School   Charter        $1,081,356.0              83.97   \n",
       "Griffin High School   Charter          $917,500.0              84.39   \n",
       "Shelton High School   Charter        $1,056,600.0              84.33   \n",
       "Rodriguez High School District       $2,547,363.0              84.34   \n",
       "Thomas High School    Charter        $1,043,130.0              84.50   \n",
       "\n",
       "                               Average Reading Score % Passing Math  \\\n",
       "school_name           type                                            \n",
       "Cabrera High School   Charter                  84.43          94.13   \n",
       "Griffin High School   Charter                  84.25          93.39   \n",
       "Shelton High School   Charter                  84.36          93.87   \n",
       "Rodriguez High School District                 84.37          66.37   \n",
       "Thomas High School    Charter                  84.26          93.27   \n",
       "\n",
       "                               % Passing Reading Overall Passing Rate  \n",
       "school_name           type                                             \n",
       "Cabrera High School   Charter              97.04                84.20  \n",
       "Griffin High School   Charter              97.14                84.32  \n",
       "Shelton High School   Charter              95.85                84.34  \n",
       "Rodriguez High School District             80.22                84.36  \n",
       "Thomas High School    Charter              97.31                84.38  "
      ]
     },
     "execution_count": 74,
     "metadata": {},
     "output_type": "execute_result"
    }
   ],
   "source": [
    "#Five worst performing schools by overall passing rate\n",
    "worst_performing_schools = school_summary_results.sort_values([\"Overall Passing Rate\"], ascending=True)\n",
    "worst_performing_schools.head(5) "
   ]
  },
  {
   "cell_type": "code",
   "execution_count": null,
   "metadata": {},
   "outputs": [],
   "source": []
  },
  {
   "cell_type": "code",
   "execution_count": 108,
   "metadata": {},
   "outputs": [],
   "source": [
    "grade9 = student_data.loc[(student_data[\"grade\"] == \"9th\")]\n",
    "grade10 = student_data.loc[(student_data[\"grade\"] == \"10th\")]\n",
    "grade11 = student_data.loc[(student_data[\"grade\"] == \"11th\")]\n",
    "grade12 = student_data.loc[(student_data[\"grade\"] == \"12th\")]"
   ]
  },
  {
   "cell_type": "code",
   "execution_count": null,
   "metadata": {},
   "outputs": [],
   "source": []
  }
 ],
 "metadata": {
  "kernelspec": {
   "display_name": "Python 3",
   "language": "python",
   "name": "python3"
  },
  "language_info": {
   "codemirror_mode": {
    "name": "ipython",
    "version": 3
   },
   "file_extension": ".py",
   "mimetype": "text/x-python",
   "name": "python",
   "nbconvert_exporter": "python",
   "pygments_lexer": "ipython3",
   "version": "3.6.7"
  }
 },
 "nbformat": 4,
 "nbformat_minor": 2
}
